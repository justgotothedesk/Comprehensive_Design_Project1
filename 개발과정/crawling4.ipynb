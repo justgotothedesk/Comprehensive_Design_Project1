{
 "cells": [
  {
   "cell_type": "code",
   "execution_count": 5,
   "id": "5da07175",
   "metadata": {},
   "outputs": [
    {
     "name": "stderr",
     "output_type": "stream",
     "text": [
      "C:\\Users\\mouse\\AppData\\Local\\Temp/ipykernel_17944/2225768258.py:12: DeprecationWarning: executable_path has been deprecated, please pass in a Service object\n",
      "  driver = webdriver.Chrome(chrome_driver,options=chrome_options)\n"
     ]
    }
   ],
   "source": [
    "# from selenium import webdriver\n",
    "from selenium import webdriver\n",
    "from selenium.webdriver.chrome.options import Options\n",
    "from selenium.webdriver.common.by import By\n",
    "import time\n",
    "\n",
    "# 브라우저 꺼짐 방지 옵션\n",
    "chrome_options = Options()\n",
    "chrome_options.add_experimental_option(\"detach\", True)\n",
    "chrome_driver = \"C:\\\\Users\\\\mouse\\\\Desktop\\\\chromedriver.exe\"\n",
    "\n",
    "driver = webdriver.Chrome(chrome_driver,options=chrome_options)\n",
    "driver.implicitly_wait(10)\n",
    "driver.get('https://everytime.kr/login')\n",
    "\n",
    "# 접속\n",
    "id = \"mouse4432\" #아이디 입력\n",
    "pwd = \"cell4432\" #비밀번호 입력\n",
    "driver.find_element(By.NAME, 'userid').send_keys(id)\n",
    "driver.find_element(By.NAME, 'password').send_keys(pwd)\n",
    "time.sleep(10)\n"
   ]
  },
  {
   "cell_type": "code",
   "execution_count": 68,
   "id": "cfeb8df6",
   "metadata": {
    "scrolled": true
   },
   "outputs": [
    {
     "name": "stdout",
     "output_type": "stream",
     "text": [
      "\n",
      "과목명\n",
      "데이타베이스\n",
      "교수명\n",
      "서영균\n",
      "3.79\n",
      "과제\n",
      "없음\n",
      "0%\n",
      "보통\n",
      "9%\n",
      "많음\n",
      "91%\n",
      "조모임\n",
      "없음\n",
      "1%\n",
      "보통\n",
      "22%\n",
      "많음\n",
      "77%\n",
      "성적\n",
      "너그러움\n",
      "14%\n",
      "보통\n",
      "73%\n",
      "깐깐함\n",
      "13%\n",
      "직접호명\n",
      "두 번\n"
     ]
    }
   ],
   "source": [
    "url = 'https://everytime.kr/lecture/view/1903279'\n",
    "driver.get(url)\n",
    "time.sleep(3)\n",
    "\n",
    "info = driver.find_elements(By.CLASS_NAME, \"info\")\n",
    "title = info[0].text\n",
    "print(title)\n",
    "\n",
    "\n",
    "prof = info[1].text\n",
    "print(prof)\n",
    "time.sleep(3)\n",
    "    \n",
    "rates = driver.find_elements(By.CLASS_NAME, \"average\")\n",
    "rate = rates[0].text\n",
    "print(rate)\n",
    "time.sleep(3)\n",
    "\n",
    "s = driver.find_elements(By.CLASS_NAME, \"subjective\")\n",
    "assignment = s[0].text\n",
    "print(assignment)\n",
    "\n",
    "team_project = s[1].text\n",
    "print(team_project)\n",
    "\n",
    "\n",
    "grade = s[2].text\n",
    "print(grade)\n",
    "time.sleep(3)\n",
    "\n",
    "majorities = driver.find_elements(By.CLASS_NAME, \"majority\")\n",
    "attendence = majorities[0].text\n",
    "print(attendence)\n",
    "\n",
    "test_count = majorities[1].text\n",
    "print(test_count)\n",
    "time.sleep(3)\n",
    "\n",
    "\n"
   ]
  },
  {
   "cell_type": "code",
   "execution_count": 73,
   "id": "18f866f7",
   "metadata": {},
   "outputs": [
    {
     "name": "stdout",
     "output_type": "stream",
     "text": [
      "['수업은 빡세나 얻어가는 건 많습니다. 팀플이 특히 할 게 많아요', '학생 이름 외우려고 노력하셔서 끝날 때쯤에는 거의 다 아시는데, 따로 태도 점수는 없습니다. 맨날 잤지만 시험 잘보면 A+ 주십니다.', '강의력 좋으심. 하지만 빡셈\\nBI루트 타는 글솦이라면 경영에 데이터베이스 입문 (이새롬 교수님) 듣고 오면 중간까지 수월하게 감. 학기 시작하기 전에 벼락치기로 SQLD 공부하면서 이론 훑었는데 도움 됐음. 프로젝트는 자기가 얼만큼 열심히 하냐에  달렸고 어느정도 열심히하면 점수는 잘 주심. 시험은 개념 부분은 수업 때 이해하고 치팅시트에 다 적어서 치면 되고 무조건 교수님이 강조하시는 계산문제 같은거 위주로 공부하면 됨. 뭐 암튼 힘든 수업이었음.', '디비에 대해서 많이 배우고 갑니다. 팀플하면서 특히 많이 배운 것 같아요. 팀플 할 때 마음 맞고 편한 사람들이랑 하는 거 추천합니다. 다른 사람들 말처럼 6학점짜리 수업 같이 느껴졌습니다. 성적은 후하게 주시기 시작하신 것 같아요. 소통도 잘 되는 것 같다고 느꼈습니다. 중간 기말 시험에 있어서 cheat sheet가 가능해서 개념을 외우기 보다는 전체적으로 이해하는 게 좋을 것 같아요. 지엽적인 TF는 cheat sheet로 충분히 커버 가능합니다. 계산하는 부분은 충분히 준비하시고 가야되고요. 중간고사 준비할 때 inner, outer join 하는 SQL문 많이 짜고 가세요. complex한 SQL문 짜기 많이 어렵습니다.\\n\\n많이 배우긴 했지만 ER 다이어그램이 현업에서 소프트웨어 설계할 때 쓰는 ER 다이어그램이랑 많이 다르다는 점이 별로였습니다. 그런데 책이 그렇게 돼있으니 어쩔 수 없다고 생각은 합니다. 그리고 sharding 같은 개념도 짚고 넘어갔으면 좋지 않을까 생각해봤습니다.', '이번 학기에 들었던 과목 중에 가장 도움이 된 과목. 한 학기 내내 프로젝트를 진행해야해서 빡셀수도 있지만 그만큼 얻은 것도 많다. 그 외의 퀴즈, 개인 과제도 있지만 생각보다 할만했다. 교수님이 계속 피드백을 받으시면서 공부할 내용을 중요한 것 위주로 줄이셔서 그랬던 것 같다. 시험은 개인적으로 중간은 어려웠고 기말은 시간이 부족했다. 그리고 웹 개발을 해봤으면 프로젝트에 도움이 되니 꼭 공부하고 수강하길 바란다. 학기 중에 웹 공부까지 할려면 쉽지 않을거다.', '그저 갓 교수님 입니다 우선 제 성적은 거지임을 알려드리고, 그럼에도 불구하고 얻어가는 것들이 너무 많은 수업이었습니다. 다만 3학점치고는 과제, 팀플, 공부량이 매우 많은 편이라 6학점 수업이라 생각하시면 좋을 것 같습니다', '수업이 빡빡하긴 한데 열심히 하면 얻어가는 것도 많을 것 같음 근데 팀플이 3명이서 하기엔 제법 빡센 감이 있음 절대 3학점이라고 생각하지 말고 신청하길 바람', '이론 시험은 다 평균정도였는데 실습 과제와 실습 시험을 모두 1등하니 A+이 나와서 너무 좋았다.\\n이론 배점이 더 높아서 이론 잘 하는 사람이 유리하긴하지만\\n이론에 약하더라도 디비 설계하고, 웹사이트 제작하는 거 자체를 즐기만 해도 성적이 잘 나온다는 점이 너무 좋았다.\\n전체 A정원의 절반정도는 A+주시려고 한다고 직접 말하심.\\n배워가는 거 많은 수업', '다른 교수님 듣는 친구랑 수업 내용 비교하면 수업 내용이 더 많고 얻어가는 것도 더 많은거 같음. 그리고 프로젝트 집중해서 하면 스스로도 많이 알아가는 거 같음. 단점은 수업 내용이 많다보니 교수님 말이 빨라져서 한번 놓치면 따라가기힘듬', '진짜 힘든데 얻어가는게 많다는게 뭔지 알거 같아요.. 시험은 이론은 적당히 할만한데 실습은 중간고사 SQL 쓰는게 어렵게 나옵니다. 그때 다들 미끄러진분 많은거 같아요. 그때 넘기면 괜찮습니다. 교수님이 학생들에게 관심이 많으신게 보이고 피드백도 잘 받아주십니다. 학생들 이름도 외우려고 하십니다. 수업이 조금 빠르기때문에 적당히 녹음하고 복습하는거 추천합니다. 프로젝트도 도움 많이 됐습니다. 전체적인 DB개발과 웹 연결되는 프로세스를 이해할 수 있습니다. 근데 한번 더 강조하자면 힘듭니다.. 전공 15들었는데 21같은 이 기분..', '[강의자료]\\n강의자료가 상세해서 DB에 대해서 배우기 좋았어요\\n양이 많은건 사실이긴한데 어차피 개발쪽으로 취업하려면 DB는 꼭 알아야하고 쿼리짜는거야 혼자하면 되지만 이론적인 부분에 혼자 공부하는데 있어서 한계가 있다고 생각하기에 듣는거 추천해요\\n\\n[쪽지시험]\\n쪽지시험에 관해서는 부담 가질필요 없는게 전체성적에서 영향을 크게 안미쳐요 그냥 복습하는 느낌이나 시험공부 미리한다는 느낌으로 하면 돼요.\\n\\n[팀플]\\n이거는 살짝 장단점이 나뉘는게 장점은 스키마짜는거나 수업 내용을 실제로 적용하는게 실력느는데 영향을 엄청줘요\\n그대신 단점은 더미데이터만들거나 뭐 프론트 개발하는 그런 자질구레한것들이랑 팀원 만들어서 가면 괜찮은데 같이 듣는사람 없이 가면 ㅎ... 그리고 앵간해서는 점수 후하게 주십니다.\\n\\n[시험]\\n이론 실습 둘다하는데 이론은 치팅시트있고 실습은 오픈 인터넷이라 준비만 하고 가시면 할만합니다. 그리고 문제양은 그렇게 많지는 않아요 그냥 몇문제 못푸는 정도??ㅎㅎ..\\n\\n[총평]\\n다른 DB수업 여시는 ㅇㅇㅈ교수님이나 ㅈㅇㅇ교수님도 좋지만 이왕할거 제대로 배우려고 서영균 교수님 수업들었는데 만족합니다. 친구가 ㅇㅇㅈ교수님 DB들어서 이야기 나눠봤는데 서영균 교수님거 듣길 잘했다는 생각이 들더라구요 물론 체감상 한 5학점 6학점 정도는 되는거 같긴한데 저는 추천해요. (만약 이 수업 포함해서 팀플이 3개 이상이면 비추합니다. 그러다 이도 저도 안돼요)\\n\\n[기타]\\n플교수님은 아니에요. 그리고 교수님이 열정맨이셔서 시험 일주일전마다 희망자에 한해서 브라운 백 미팅하는데 여기서 수업외적으로 그냥 이것저것 물어보셔도 알려주십니다. 저는 처음에는 교수님에 대해 안좋은 인상 가지고 갔는데 되게 괜찮았어요 궁금한것도 잘 알려주시고 개인 과제분량이나 팀플과제 제출일정도 학생들 의견 수렴하셔서 기한연장해주시거나 그래요. 그리고 수업에 대한 피드백도 한번 진행하는데 이때 학생들의 피드백에 대해서 교수님의 의견을 말하고 조율할수 있는 부분은 조율도 해주시고 그래요', '격주 간격으로 쪽지시험, 팀플과제, 매주 과제가 있습니다. 개인적으로는 데이터베이스에 대해서 자세하게 베울 수 있어서 좋았어요.', '쪽지시험, 프로젝트, 과제, 시험까지 너무 힘들지만 배우는건 제일 많은 수업. 디비 설계, 구축 및 이를 활용하는 웹앱 만들기까지 디비의 내용과 이 활용까지 배울 수 있는 강의. 제대로 공부하고 싶으면 얘매한 과목말고 이거 듣는거 추천', '수업시간에 이해하지 못하는 것 같은 부분이 있으면 추가로 예시를 가져와 설명해주시는등 매우 열심히 가르치십니다', '15학점들어서 그나마 할만했음.\\n그냥 과목 특성상 조금만 깊게해도 어려운 과목이라고 생각함..\\n다만 어려운 개념에 대해서 막 이해가 잘가게 설명을 해주시는 않아서 아쉬웠음 개인적으로 더 공부를 해야함.', '수업이 빡세긴 진짜 빡셈. 한학기동안 팀플과제만 4번이고 거의 매주 실습과제가 나옴. 그만큼 많이 얻어갈 수 있음. 개인적으로 수업 꿀빠는것보다는 많이 얻어가는것이 좋다고 생각해서 매우 만족했음. 듣는 수업이 많고 바쁘다면 다른 교수님 수업 듣는 걸 추천함.', '최고 그냥 그 자체 걍 이교수님 수업들으면 얻기 싫어도 얻을 수 밖에 없음.. 대신 3학점짜리는 아닌거 같음', '데베1-데베2로 분리시켜 놓았어야 할 6학점어치 분량을 3학점으로 녹여내는 매직. 이 과목을 포함시키면 생각해둔 학점에서 -3 빼고 시간표 짜는걸 추천한다. 질좋은 강의 자료와 강의력에 있어서는 별 5개를 줄 수 밖에 없다.', '다른 평가가 보여주듯이 엄청 빡셈 그만큼 많이 얻어갈 수 있다는데 개인 노력이 받쳐줘야 가능할 듯', '데이터베이스는 서영균이라는 말이있을정도로 과목에 대한 프라이드가 넘치심']\n"
     ]
    }
   ],
   "source": [
    "url = 'https://everytime.kr/lecture/view/1903279?tab=article'\n",
    "driver.get(url)\n",
    "time.sleep(3)\n",
    "\n",
    "articles = driver.find_elements(By.CLASS_NAME, \"text\")\n",
    "article = []\n",
    "for element in articles:\n",
    "    article.append(element.text)\n",
    "    \n",
    "print(article)\n",
    "time.sleep(3)"
   ]
  },
  {
   "cell_type": "code",
   "execution_count": 13,
   "id": "236ea325",
   "metadata": {},
   "outputs": [
    {
     "name": "stdout",
     "output_type": "stream",
     "text": [
      "강의평 없음\n",
      "{\n",
      "\t\"course_info\": \"과목명\\n컴파일러\\n교수명\\n김정근\",\n",
      "\t\"rating\": \"4.03\\n(30개)\\n5\\n37%\\n4\\n40%\\n3\\n17%\\n2\\n3%\\n1\\n3%\",\n",
      "\t\"assignment\": \"과제\\n없음\\n3%\\n보통\\n43%\\n많음\\n53%\",\n",
      "\t\"team_project\": \"조모임\\n없음\\n100%\\n보통\\n0%\\n많음\\n0%\",\n",
      "\t\"grade\": \"성적\\n너그러움\\n23%\\n보통\\n73%\\n깐깐함\\n3%\",\n",
      "\t\"attendence\": \"전자출결\",\n",
      "\t\"test_count\": \"두 번\"\n",
      "}\n"
     ]
    },
    {
     "ename": "TypeError",
     "evalue": "Object of type WebElement is not JSON serializable",
     "output_type": "error",
     "traceback": [
      "\u001b[1;31m---------------------------------------------------------------------------\u001b[0m",
      "\u001b[1;31mTypeError\u001b[0m                                 Traceback (most recent call last)",
      "\u001b[1;32m~\\AppData\\Local\\Temp/ipykernel_17944/118537795.py\u001b[0m in \u001b[0;36m<module>\u001b[1;34m\u001b[0m\n\u001b[0;32m     70\u001b[0m \u001b[1;33m\u001b[0m\u001b[0m\n\u001b[0;32m     71\u001b[0m \u001b[1;33m\u001b[0m\u001b[0m\n\u001b[1;32m---> 72\u001b[1;33m         \u001b[0mprint\u001b[0m\u001b[1;33m(\u001b[0m\u001b[0mjson\u001b[0m\u001b[1;33m.\u001b[0m\u001b[0mdumps\u001b[0m\u001b[1;33m(\u001b[0m\u001b[0mfile_data\u001b[0m\u001b[1;33m,\u001b[0m \u001b[0mensure_ascii\u001b[0m\u001b[1;33m=\u001b[0m\u001b[1;32mFalse\u001b[0m\u001b[1;33m,\u001b[0m \u001b[0mindent\u001b[0m\u001b[1;33m=\u001b[0m\u001b[1;34m\"\\t\"\u001b[0m\u001b[1;33m)\u001b[0m\u001b[1;33m)\u001b[0m\u001b[1;33m\u001b[0m\u001b[1;33m\u001b[0m\u001b[0m\n\u001b[0m\u001b[0;32m     73\u001b[0m         \u001b[0mdriver\u001b[0m\u001b[1;33m.\u001b[0m\u001b[0mback\u001b[0m\u001b[1;33m(\u001b[0m\u001b[1;33m)\u001b[0m\u001b[1;33m\u001b[0m\u001b[1;33m\u001b[0m\u001b[0m\n\u001b[0;32m     74\u001b[0m         \u001b[0mtime\u001b[0m\u001b[1;33m.\u001b[0m\u001b[0msleep\u001b[0m\u001b[1;33m(\u001b[0m\u001b[1;36m3\u001b[0m\u001b[1;33m)\u001b[0m\u001b[1;33m\u001b[0m\u001b[1;33m\u001b[0m\u001b[0m\n",
      "\u001b[1;32m~\\anaconda3\\lib\\json\\__init__.py\u001b[0m in \u001b[0;36mdumps\u001b[1;34m(obj, skipkeys, ensure_ascii, check_circular, allow_nan, cls, indent, separators, default, sort_keys, **kw)\u001b[0m\n\u001b[0;32m    232\u001b[0m     \u001b[1;32mif\u001b[0m \u001b[0mcls\u001b[0m \u001b[1;32mis\u001b[0m \u001b[1;32mNone\u001b[0m\u001b[1;33m:\u001b[0m\u001b[1;33m\u001b[0m\u001b[1;33m\u001b[0m\u001b[0m\n\u001b[0;32m    233\u001b[0m         \u001b[0mcls\u001b[0m \u001b[1;33m=\u001b[0m \u001b[0mJSONEncoder\u001b[0m\u001b[1;33m\u001b[0m\u001b[1;33m\u001b[0m\u001b[0m\n\u001b[1;32m--> 234\u001b[1;33m     return cls(\n\u001b[0m\u001b[0;32m    235\u001b[0m         \u001b[0mskipkeys\u001b[0m\u001b[1;33m=\u001b[0m\u001b[0mskipkeys\u001b[0m\u001b[1;33m,\u001b[0m \u001b[0mensure_ascii\u001b[0m\u001b[1;33m=\u001b[0m\u001b[0mensure_ascii\u001b[0m\u001b[1;33m,\u001b[0m\u001b[1;33m\u001b[0m\u001b[1;33m\u001b[0m\u001b[0m\n\u001b[0;32m    236\u001b[0m         \u001b[0mcheck_circular\u001b[0m\u001b[1;33m=\u001b[0m\u001b[0mcheck_circular\u001b[0m\u001b[1;33m,\u001b[0m \u001b[0mallow_nan\u001b[0m\u001b[1;33m=\u001b[0m\u001b[0mallow_nan\u001b[0m\u001b[1;33m,\u001b[0m \u001b[0mindent\u001b[0m\u001b[1;33m=\u001b[0m\u001b[0mindent\u001b[0m\u001b[1;33m,\u001b[0m\u001b[1;33m\u001b[0m\u001b[1;33m\u001b[0m\u001b[0m\n",
      "\u001b[1;32m~\\anaconda3\\lib\\json\\encoder.py\u001b[0m in \u001b[0;36mencode\u001b[1;34m(self, o)\u001b[0m\n\u001b[0;32m    199\u001b[0m         \u001b[0mchunks\u001b[0m \u001b[1;33m=\u001b[0m \u001b[0mself\u001b[0m\u001b[1;33m.\u001b[0m\u001b[0miterencode\u001b[0m\u001b[1;33m(\u001b[0m\u001b[0mo\u001b[0m\u001b[1;33m,\u001b[0m \u001b[0m_one_shot\u001b[0m\u001b[1;33m=\u001b[0m\u001b[1;32mTrue\u001b[0m\u001b[1;33m)\u001b[0m\u001b[1;33m\u001b[0m\u001b[1;33m\u001b[0m\u001b[0m\n\u001b[0;32m    200\u001b[0m         \u001b[1;32mif\u001b[0m \u001b[1;32mnot\u001b[0m \u001b[0misinstance\u001b[0m\u001b[1;33m(\u001b[0m\u001b[0mchunks\u001b[0m\u001b[1;33m,\u001b[0m \u001b[1;33m(\u001b[0m\u001b[0mlist\u001b[0m\u001b[1;33m,\u001b[0m \u001b[0mtuple\u001b[0m\u001b[1;33m)\u001b[0m\u001b[1;33m)\u001b[0m\u001b[1;33m:\u001b[0m\u001b[1;33m\u001b[0m\u001b[1;33m\u001b[0m\u001b[0m\n\u001b[1;32m--> 201\u001b[1;33m             \u001b[0mchunks\u001b[0m \u001b[1;33m=\u001b[0m \u001b[0mlist\u001b[0m\u001b[1;33m(\u001b[0m\u001b[0mchunks\u001b[0m\u001b[1;33m)\u001b[0m\u001b[1;33m\u001b[0m\u001b[1;33m\u001b[0m\u001b[0m\n\u001b[0m\u001b[0;32m    202\u001b[0m         \u001b[1;32mreturn\u001b[0m \u001b[1;34m''\u001b[0m\u001b[1;33m.\u001b[0m\u001b[0mjoin\u001b[0m\u001b[1;33m(\u001b[0m\u001b[0mchunks\u001b[0m\u001b[1;33m)\u001b[0m\u001b[1;33m\u001b[0m\u001b[1;33m\u001b[0m\u001b[0m\n\u001b[0;32m    203\u001b[0m \u001b[1;33m\u001b[0m\u001b[0m\n",
      "\u001b[1;32m~\\anaconda3\\lib\\json\\encoder.py\u001b[0m in \u001b[0;36m_iterencode\u001b[1;34m(o, _current_indent_level)\u001b[0m\n\u001b[0;32m    429\u001b[0m             \u001b[1;32myield\u001b[0m \u001b[1;32mfrom\u001b[0m \u001b[0m_iterencode_list\u001b[0m\u001b[1;33m(\u001b[0m\u001b[0mo\u001b[0m\u001b[1;33m,\u001b[0m \u001b[0m_current_indent_level\u001b[0m\u001b[1;33m)\u001b[0m\u001b[1;33m\u001b[0m\u001b[1;33m\u001b[0m\u001b[0m\n\u001b[0;32m    430\u001b[0m         \u001b[1;32melif\u001b[0m \u001b[0misinstance\u001b[0m\u001b[1;33m(\u001b[0m\u001b[0mo\u001b[0m\u001b[1;33m,\u001b[0m \u001b[0mdict\u001b[0m\u001b[1;33m)\u001b[0m\u001b[1;33m:\u001b[0m\u001b[1;33m\u001b[0m\u001b[1;33m\u001b[0m\u001b[0m\n\u001b[1;32m--> 431\u001b[1;33m             \u001b[1;32myield\u001b[0m \u001b[1;32mfrom\u001b[0m \u001b[0m_iterencode_dict\u001b[0m\u001b[1;33m(\u001b[0m\u001b[0mo\u001b[0m\u001b[1;33m,\u001b[0m \u001b[0m_current_indent_level\u001b[0m\u001b[1;33m)\u001b[0m\u001b[1;33m\u001b[0m\u001b[1;33m\u001b[0m\u001b[0m\n\u001b[0m\u001b[0;32m    432\u001b[0m         \u001b[1;32melse\u001b[0m\u001b[1;33m:\u001b[0m\u001b[1;33m\u001b[0m\u001b[1;33m\u001b[0m\u001b[0m\n\u001b[0;32m    433\u001b[0m             \u001b[1;32mif\u001b[0m \u001b[0mmarkers\u001b[0m \u001b[1;32mis\u001b[0m \u001b[1;32mnot\u001b[0m \u001b[1;32mNone\u001b[0m\u001b[1;33m:\u001b[0m\u001b[1;33m\u001b[0m\u001b[1;33m\u001b[0m\u001b[0m\n",
      "\u001b[1;32m~\\anaconda3\\lib\\json\\encoder.py\u001b[0m in \u001b[0;36m_iterencode_dict\u001b[1;34m(dct, _current_indent_level)\u001b[0m\n\u001b[0;32m    403\u001b[0m                 \u001b[1;32melse\u001b[0m\u001b[1;33m:\u001b[0m\u001b[1;33m\u001b[0m\u001b[1;33m\u001b[0m\u001b[0m\n\u001b[0;32m    404\u001b[0m                     \u001b[0mchunks\u001b[0m \u001b[1;33m=\u001b[0m \u001b[0m_iterencode\u001b[0m\u001b[1;33m(\u001b[0m\u001b[0mvalue\u001b[0m\u001b[1;33m,\u001b[0m \u001b[0m_current_indent_level\u001b[0m\u001b[1;33m)\u001b[0m\u001b[1;33m\u001b[0m\u001b[1;33m\u001b[0m\u001b[0m\n\u001b[1;32m--> 405\u001b[1;33m                 \u001b[1;32myield\u001b[0m \u001b[1;32mfrom\u001b[0m \u001b[0mchunks\u001b[0m\u001b[1;33m\u001b[0m\u001b[1;33m\u001b[0m\u001b[0m\n\u001b[0m\u001b[0;32m    406\u001b[0m         \u001b[1;32mif\u001b[0m \u001b[0mnewline_indent\u001b[0m \u001b[1;32mis\u001b[0m \u001b[1;32mnot\u001b[0m \u001b[1;32mNone\u001b[0m\u001b[1;33m:\u001b[0m\u001b[1;33m\u001b[0m\u001b[1;33m\u001b[0m\u001b[0m\n\u001b[0;32m    407\u001b[0m             \u001b[0m_current_indent_level\u001b[0m \u001b[1;33m-=\u001b[0m \u001b[1;36m1\u001b[0m\u001b[1;33m\u001b[0m\u001b[1;33m\u001b[0m\u001b[0m\n",
      "\u001b[1;32m~\\anaconda3\\lib\\json\\encoder.py\u001b[0m in \u001b[0;36m_iterencode_list\u001b[1;34m(lst, _current_indent_level)\u001b[0m\n\u001b[0;32m    323\u001b[0m                 \u001b[1;32melse\u001b[0m\u001b[1;33m:\u001b[0m\u001b[1;33m\u001b[0m\u001b[1;33m\u001b[0m\u001b[0m\n\u001b[0;32m    324\u001b[0m                     \u001b[0mchunks\u001b[0m \u001b[1;33m=\u001b[0m \u001b[0m_iterencode\u001b[0m\u001b[1;33m(\u001b[0m\u001b[0mvalue\u001b[0m\u001b[1;33m,\u001b[0m \u001b[0m_current_indent_level\u001b[0m\u001b[1;33m)\u001b[0m\u001b[1;33m\u001b[0m\u001b[1;33m\u001b[0m\u001b[0m\n\u001b[1;32m--> 325\u001b[1;33m                 \u001b[1;32myield\u001b[0m \u001b[1;32mfrom\u001b[0m \u001b[0mchunks\u001b[0m\u001b[1;33m\u001b[0m\u001b[1;33m\u001b[0m\u001b[0m\n\u001b[0m\u001b[0;32m    326\u001b[0m         \u001b[1;32mif\u001b[0m \u001b[0mnewline_indent\u001b[0m \u001b[1;32mis\u001b[0m \u001b[1;32mnot\u001b[0m \u001b[1;32mNone\u001b[0m\u001b[1;33m:\u001b[0m\u001b[1;33m\u001b[0m\u001b[1;33m\u001b[0m\u001b[0m\n\u001b[0;32m    327\u001b[0m             \u001b[0m_current_indent_level\u001b[0m \u001b[1;33m-=\u001b[0m \u001b[1;36m1\u001b[0m\u001b[1;33m\u001b[0m\u001b[1;33m\u001b[0m\u001b[0m\n",
      "\u001b[1;32m~\\anaconda3\\lib\\json\\encoder.py\u001b[0m in \u001b[0;36m_iterencode\u001b[1;34m(o, _current_indent_level)\u001b[0m\n\u001b[0;32m    436\u001b[0m                     \u001b[1;32mraise\u001b[0m \u001b[0mValueError\u001b[0m\u001b[1;33m(\u001b[0m\u001b[1;34m\"Circular reference detected\"\u001b[0m\u001b[1;33m)\u001b[0m\u001b[1;33m\u001b[0m\u001b[1;33m\u001b[0m\u001b[0m\n\u001b[0;32m    437\u001b[0m                 \u001b[0mmarkers\u001b[0m\u001b[1;33m[\u001b[0m\u001b[0mmarkerid\u001b[0m\u001b[1;33m]\u001b[0m \u001b[1;33m=\u001b[0m \u001b[0mo\u001b[0m\u001b[1;33m\u001b[0m\u001b[1;33m\u001b[0m\u001b[0m\n\u001b[1;32m--> 438\u001b[1;33m             \u001b[0mo\u001b[0m \u001b[1;33m=\u001b[0m \u001b[0m_default\u001b[0m\u001b[1;33m(\u001b[0m\u001b[0mo\u001b[0m\u001b[1;33m)\u001b[0m\u001b[1;33m\u001b[0m\u001b[1;33m\u001b[0m\u001b[0m\n\u001b[0m\u001b[0;32m    439\u001b[0m             \u001b[1;32myield\u001b[0m \u001b[1;32mfrom\u001b[0m \u001b[0m_iterencode\u001b[0m\u001b[1;33m(\u001b[0m\u001b[0mo\u001b[0m\u001b[1;33m,\u001b[0m \u001b[0m_current_indent_level\u001b[0m\u001b[1;33m)\u001b[0m\u001b[1;33m\u001b[0m\u001b[1;33m\u001b[0m\u001b[0m\n\u001b[0;32m    440\u001b[0m             \u001b[1;32mif\u001b[0m \u001b[0mmarkers\u001b[0m \u001b[1;32mis\u001b[0m \u001b[1;32mnot\u001b[0m \u001b[1;32mNone\u001b[0m\u001b[1;33m:\u001b[0m\u001b[1;33m\u001b[0m\u001b[1;33m\u001b[0m\u001b[0m\n",
      "\u001b[1;32m~\\anaconda3\\lib\\json\\encoder.py\u001b[0m in \u001b[0;36mdefault\u001b[1;34m(self, o)\u001b[0m\n\u001b[0;32m    177\u001b[0m \u001b[1;33m\u001b[0m\u001b[0m\n\u001b[0;32m    178\u001b[0m         \"\"\"\n\u001b[1;32m--> 179\u001b[1;33m         raise TypeError(f'Object of type {o.__class__.__name__} '\n\u001b[0m\u001b[0;32m    180\u001b[0m                         f'is not JSON serializable')\n\u001b[0;32m    181\u001b[0m \u001b[1;33m\u001b[0m\u001b[0m\n",
      "\u001b[1;31mTypeError\u001b[0m: Object of type WebElement is not JSON serializable"
     ]
    }
   ],
   "source": [
    "professor = ['김정근', '권영우', '남우정', '김승호', '아난드 폴',\n",
    "             '정기숙', '임경식', '정원일', '정선미', '이호경', '배준현',\n",
    "             '이상윤', '박소은', '김용태', '백호기', '남덕윤', '이우진', '김경훈',\n",
    "             '장재석', '이시형', '김진욱', '김재수', '김필영', '김명석', '백낙훈',\n",
    "             '박상효', '펑리메이', '김재일', '김명옥', '정창수', '이용주', '정설영',\n",
    "             '이종택', '서영균', '이성희', '김동선', '김령환', '김동균', '김구진']\n",
    "\n",
    "file_data = OrderedDict()\n",
    "\n",
    "for name in professor:\n",
    "    url = 'https://everytime.kr/lecture/search?keyword='+name+'&condition=professor'\n",
    "\n",
    "    driver.get(url)\n",
    "    time.sleep(3)\n",
    "\n",
    "    #교수명 검색 후 강의들 반환\n",
    "    lectures = driver.find_elements(By.CLASS_NAME, \"lecture\")\n",
    "    for lecture in lectures :\n",
    "        lecture.click()\n",
    "        time.sleep(3)\n",
    "\n",
    "        #강의명 교수명 출력\n",
    "        info = driver.find_elements(By.CLASS_NAME, \"info\")\n",
    "        \n",
    "        file_data[\"course_info\"] = info[1].text\n",
    "\n",
    "        #강의평 평점 출력\n",
    "        try : \n",
    "            rate = driver.find_element(By.CLASS_NAME, \"rating\")\n",
    "        except :\n",
    "            driver.back()\n",
    "            print(\"강의평 없음\")\n",
    "            continue\n",
    "        file_data[\"rating\"] = rate.text\n",
    "        \n",
    "        try:\n",
    "            s = driver.find_elements(By.CLASS_NAME, \"subjective\")\n",
    "        except:\n",
    "                file_data[\"assignment\"] = \"NULL\"\n",
    "                file_data[\"team_project\"] = \"NULL\"\n",
    "                file_data[\"grade\"] = \"NULL\"\n",
    "        \n",
    "        file_data[\"assignment\"] = s[0].text\n",
    "        file_data[\"team_project\"] = s[1].text\n",
    "        file_data[\"grade\"] = s[2].text\n",
    "        \n",
    "        try:\n",
    "            majorities = driver.find_elements(By.CLASS_NAME, \"majority\")\n",
    "        except:\n",
    "                file_data[\"attendence\"] = \"NULL\"\n",
    "                file_data[\"test_count\"] = \"NULL\"\n",
    "\n",
    "        file_data[\"attendence\"] = majorities[0].text\n",
    "        if(majorities[1].text):\n",
    "            file_data[\"test_count\"] = majorities[1].text\n",
    "        else:\n",
    "            file_data[\"test_count\"] = \"NULL\"\n",
    "\n",
    "        time.sleep(3)\n",
    "        print(json.dumps(file_data, ensure_ascii=False, indent=\"\\t\"))\n",
    "\n",
    "        #강의평\n",
    "        driver.find_element(By.CLASS_NAME, \"more\").click()\n",
    "        time.sleep(3)\n",
    "        articles = driver.find_elements(By.CLASS_NAME, \"article\")\n",
    "        \n",
    "        file_data[\"articles\"] = []\n",
    "        for article in articles :\n",
    "            file_data[\"articles\"].append(article)\n",
    "            \n",
    "        \n",
    "        print(json.dumps(file_data, ensure_ascii=False, indent=\"\\t\"))\n",
    "        driver.back()\n",
    "        time.sleep(3)\n",
    "\n",
    "        driver.back()\n",
    "        time.sleep(3)"
   ]
  },
  {
   "cell_type": "code",
   "execution_count": 2,
   "id": "f063ca34",
   "metadata": {},
   "outputs": [],
   "source": [
    "import json\n",
    "from collections import OrderedDict\n",
    "\n"
   ]
  },
  {
   "cell_type": "code",
   "execution_count": null,
   "id": "37b8e2db",
   "metadata": {},
   "outputs": [],
   "source": []
  }
 ],
 "metadata": {
  "kernelspec": {
   "display_name": "Python 3 (ipykernel)",
   "language": "python",
   "name": "python3"
  },
  "language_info": {
   "codemirror_mode": {
    "name": "ipython",
    "version": 3
   },
   "file_extension": ".py",
   "mimetype": "text/x-python",
   "name": "python",
   "nbconvert_exporter": "python",
   "pygments_lexer": "ipython3",
   "version": "3.9.7"
  }
 },
 "nbformat": 4,
 "nbformat_minor": 5
}
