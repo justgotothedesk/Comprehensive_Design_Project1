{
 "cells": [
  {
   "cell_type": "code",
   "execution_count": 1,
   "id": "2598af50",
   "metadata": {},
   "outputs": [],
   "source": [
    "# from selenium import webdriver\n",
    "from selenium import webdriver\n",
    "from selenium.webdriver.chrome.options import Options\n",
    "from selenium.webdriver.common.by import By\n",
    "import time\n",
    "\n",
    "# 브라우저 꺼짐 방지 옵션\n",
    "chrome_options = Options()\n",
    "chrome_options.add_experimental_option(\"detach\", True)\n",
    "chrome_driver = \"C:\\\\Users\\\\wjdfo\\\\OneDrive\\\\바탕 화면\\\\chromedriver-win64\\\\chromedriver.exe\"\n",
    "\n",
    "driver = webdriver.Chrome(chrome_driver, options=chrome_options)\n",
    "driver.get('https://everytime.kr/login')"
   ]
  },
  {
   "cell_type": "code",
   "execution_count": 27,
   "id": "9f28de4e",
   "metadata": {},
   "outputs": [
    {
     "name": "stdout",
     "output_type": "stream",
     "text": [
      "\n",
      "5.00\n",
      "(3개)\n",
      "\n",
      "23년 1학기 수강자\n",
      "추천\n",
      "신고\n",
      "교수님 정말 너무 좋으세요 하아 박상효 교수님 최고최고!\n",
      "23년 1학기 수강자\n",
      "추천\n",
      "신고\n",
      "세세하게 잘 알려주시고 시험,과제도 적당한 수준입니다\n",
      "23년 1학기 수강자\n",
      "추천\n",
      "신고\n",
      "컴퓨터학부의 희망, 박상효 교수님 수업\n",
      "준비가 잘 되어있다는게 느껴지는 강의임\n",
      "\n"
     ]
    },
    
   ],
   "source": [
    "professor = ['김정근', '권영우', '남우정', '김승호', '아난드 폴',\n",
    "             '정기숙', '임경식', '정원일', '정선미', '이호경', '배준현',\n",
    "             '이상윤', '박소은', '김용태', '백호기', '남덕윤', '이우진', '김경훈',\n",
    "             '장재석', '이시형', '김진욱', '김재수', '김필영', '김명석', '백낙훈',\n",
    "             '박상효', '펑리메이', '김재일', '김명옥', '정창수', '이용주', '정설영',\n",
    "             '이종택', '서영균', '이성희', '김동선', '김령환', '김동균', '김구진']\n",
    "\n",
    "url = 'https://everytime.kr/lecture/search?keyword=%EB%B0%95%EC%83%81%ED%9A%A8&condition=professor'\n",
    "\n",
    "#x_path 찾는 법 : html 코드 위에 우클릭 -> copy -> x_path 누르면 copy 됨\n",
    "\n",
    "driver.get(url)\n",
    "time.sleep(3)\n",
    "\n",
    "#교수명 검색 후 강의들 반환\n",
    "lectures = driver.find_elements(By.CLASS_NAME, \"lecture\")\n",
    "for lecture in lectures :\n",
    "    lecture.click()\n",
    "    time.sleep(3)\n",
    "    \n",
    "    information = driver.find_elements(By.CLASS_NAME, \"info\")\n",
    "    print(information[0].text)\n",
    "    \n",
    "    #강의평 평점 출력\n",
    "    rate = driver.find_element(By.CLASS_NAME, \"rating\")\n",
    "    if rate :\n",
    "        print(rate.text)\n",
    "\n",
    "        #강의평\n",
    "        driver.find_element(By.CLASS_NAME, \"more\").click()\n",
    "        time.sleep(3)\n",
    "        articles = driver.find_elements(By.CLASS_NAME, \"article\")\n",
    "        for article in articles :\n",
    "            print(article.text)\n",
    "        driver.back()\n",
    "        time.sleep(3)\n",
    "    \n",
    "    driver.back()\n",
    "    time.sleep(3)\n",
    "\n",
    "\n",
    "\n"
   ]
  },
  {
   "cell_type": "code",
   "execution_count": 21,
   "id": "7bfbc1a9",
   "metadata": {},
   "outputs": [
    {
     "name": "stdout",
     "output_type": "stream",
     "text": [
      "강의명 : 학위논문연구 및 연구윤리(컴퓨터학)\n",
      "교수명 : 박상효\n"
     ]
    },
    
   "source": [
    "url = \"https://everytime.kr/lecture/view/2468706\"\n",
    "\n",
    "driver.get(url)\n",
    "\n",
    "#강의명, 교수명\n",
    "print(\"강의명 :\", driver.find_element_by_xpath(\"/html/body/div/div/div[2]/div/section[1]/div[1]/a/span\").text)\n",
    "\n",
    "#강의평 평점\n",
    "print(\"교수명 :\",driver.find_element_by_xpath(\"/html/body/div/div/div[2]/div/section[1]/div[2]/div/a/span\").text)\n",
    "\n",
    "print(driver.find_element(By.CLASS_NAME, \"rating\").text)\n",
    "\n",
    "#강의평\n",
    "driver.find_element(By.CLASS_NAME, \"more\").click()\n",
    "articles = driver.find_elements(By.CLASS_NAME, \"article\")\n",
    "for article in articles :\n",
    "    print(article.text)"
   ]
  }
 ],
 "metadata": {
  "kernelspec": {
   "display_name": "Python 3 (ipykernel)",
   "language": "python",
   "name": "python3"
  },
  "language_info": {
   "codemirror_mode": {
    "name": "ipython",
    "version": 3
   },
   "file_extension": ".py",
   "mimetype": "text/x-python",
   "name": "python",
   "nbconvert_exporter": "python",
   "pygments_lexer": "ipython3",
   "version": "3.11.5"
  }
 },
 "nbformat": 4,
 "nbformat_minor": 5
}
