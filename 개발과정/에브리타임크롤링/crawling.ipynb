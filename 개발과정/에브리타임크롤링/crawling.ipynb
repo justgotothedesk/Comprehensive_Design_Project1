{
 "cells": [
  {
   "cell_type": "code",
   "execution_count": 7,
   "id": "2598af50",
   "metadata": {},
   "outputs": [],
   "source": [
    "# from selenium import webdriver\n",
    "from selenium import webdriver\n",
    "from selenium.webdriver.chrome.options import Options\n",
    "from selenium.webdriver.common.by import By\n",
    "import time\n",
    "\n",
    "# 브라우저 꺼짐 방지 옵션\n",
    "chrome_options = Options()\n",
    "chrome_options.add_experimental_option(\"detach\", True)\n",
    "chrome_driver = \"C:\\\\Users\\\\wjdfo\\\\OneDrive\\\\바탕 화면\\\\chromedriver-win64\\\\chromedriver.exe\"\n",
    "\n",
    "driver = webdriver.Chrome(chrome_driver,options=chrome_options)\n",
    "driver.implicitly_wait(10)\n",
    "driver.get('https://everytime.kr/login')\n",
    "\n",
    "# 접속\n",
    "id = \"wjdfoek32\" #아이디 입력\n",
    "pwd = \"akddl0ek@\" #비밀번호 입력\n",
    "driver.find_element(By.NAME, 'userid').send_keys(id)\n",
    "driver.find_element(By.NAME, 'password').send_keys(pwd)\n",
    "time.sleep(10)\n",
    "#driver.find_element(By.XPATH, '//*[@id=\"submenu\"]/div/div[2]/ul/li[4]').click()\n",
    "#driver.get(\"https://everytime.kr/lecture/view/2467379?tab=article\")"
   ]
  },
  {
   "cell_type": "code",
   "execution_count": 9,
   "id": "7a794eb7",
   "metadata": {},
   "outputs": [
    {
     "name": "stdout",
     "output_type": "stream",
     "text": [
      "과목명\n",
      "딥러닝 이론및응용\n",
      "교수명\n",
      "박상효\n",
      "5.00\n",
      "(3개)\n",
      "과제\n",
      "보통\n",
      "조모임\n",
      "없음\n",
      "성적\n",
      "너그러움\n",
      "출결\n",
      "전자출결\n",
      "23년 1학기 수강자\n",
      "컴퓨터학부의 희망, 박상효 교수님 수업 준비가 잘 되어있다는게 느껴지는 강의임\n",
      "23년 1학기 수강자\n",
      "교수님 정말 너무 좋으세요 하아 박상효 교수님 최고최고!\n",
      "강의평 더 보기\n",
      "교재\n",
      "등록된 교재 정보가 없습니다.\n",
      "찾고있는 교재가 있다면 책방에서 검색해보세요.\n",
      "다른 교재 찾아보기\n",
      "시험\n",
      "전략\n",
      "5문제 출제이고, 딥러닝의 아주 중요하고도 기본적인 개념들을 묻습니다\n",
      "시험 정보 더 보기\n"
     ]
    }
   ],
   "source": [
    "url = 'https://everytime.kr/lecture/view/2527497'\n",
    "driver.get(url)\n",
    "time.sleep(3)\n",
    "\n",
    "comments = driver.find_elements_by_css_selector(\".pane\")\n",
    "\n",
    "for _ in comments:\n",
    "    com = _.text\n",
    "    print(com)"
   ]
  }
 ],
 "metadata": {
  "kernelspec": {
   "display_name": "Python 3 (ipykernel)",
   "language": "python",
   "name": "python3"
  },
  "language_info": {
   "codemirror_mode": {
    "name": "ipython",
    "version": 3
   },
   "file_extension": ".py",
   "mimetype": "text/x-python",
   "name": "python",
   "nbconvert_exporter": "python",
   "pygments_lexer": "ipython3",
   "version": "3.11.5"
  }
 },
 "nbformat": 4,
 "nbformat_minor": 5
}
